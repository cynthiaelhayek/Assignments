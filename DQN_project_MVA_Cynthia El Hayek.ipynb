{
 "cells": [
  {
   "cell_type": "markdown",
   "metadata": {},
   "source": [
    "**You may need to install [OpenCV](https://pypi.python.org/pypi/opencv-python) and [scikit-video](http://www.scikit-video.org/stable/).**"
   ]
  },
  {
   "cell_type": "code",
   "execution_count": 1,
   "metadata": {},
   "outputs": [
    {
     "name": "stderr",
     "output_type": "stream",
     "text": [
      "Using TensorFlow backend.\n"
     ]
    }
   ],
   "source": [
    "import keras\n",
    "import numpy as np\n",
    "import io\n",
    "import base64\n",
    "from IPython.display import HTML\n",
    "import skvideo.io\n",
    "import cv2\n",
    "import json\n",
    "import random as rd\n",
    "\n",
    "from keras.models import Sequential,model_from_json\n",
    "from keras.layers.core import Dense\n",
    "from keras.optimizers import sgd\n",
    "from keras.layers import Conv2D, MaxPooling2D, Activation, AveragePooling2D,Reshape,BatchNormalization, Flatten, Dropout"
   ]
  },
  {
   "cell_type": "markdown",
   "metadata": {},
   "source": [
    "# MiniProject #3: Deep Reinforcement Learning"
   ]
  },
  {
   "cell_type": "markdown",
   "metadata": {},
   "source": [
    "__Notations__: $E_p$ is the expectation under probability $p$. Please justify each of your answer and widely comment your code."
   ]
  },
  {
   "cell_type": "markdown",
   "metadata": {},
   "source": [
    "# Context"
   ]
  },
  {
   "cell_type": "markdown",
   "metadata": {},
   "source": [
    "In a reinforcement learning algorithm, we modelize each step $t$ as an action $a_t$ obtained from a state $s_t$, i.e. $\\{(a_{t},s_{t})_{t\\leq T}\\}$ having the Markov property. We consider a discount factor $\\gamma \\in [0,1]$ that ensures convergence. The goal is to find among all the policies $\\pi$, one that maximizes the expected reward:\n",
    "\n",
    "\\begin{equation*}\n",
    "R(\\pi)=\\sum_{t\\leq T}E_{p^{\\pi}}[\\gamma^t r(s_{t},a_{t})] \\> ,\n",
    "\\end{equation*}\n",
    "\n",
    "where: \n",
    "\\begin{equation*}p^{\\pi}(a_{0},a_{1},s_{1},...,a_{T},s_{T})=p(a_{0})\\prod_{t=1}^{T}\\pi(a_{t}|s_{t})p(s_{t+1}|s_{t},a_{t}) \\> .\n",
    "\\end{equation*}\n",
    "\n",
    "We note the $Q$-function:\n",
    "\n",
    "\\begin{equation*}Q^\\pi(s,a)=E_{p^{\\pi}}[\\sum_{t\\leq T}\\gamma^{t}r(s_{t},a_{t})|s_{0}=s,a_{0}=a] \\> .\n",
    "\\end{equation*}\n",
    "\n",
    "Thus, the optimal Q function is:\n",
    "\\begin{equation*}\n",
    "Q^*(s,a)=\\max_{\\pi}Q^\\pi(s,a) \\> .\n",
    "\\end{equation*}\n",
    "\n",
    "In this project, we will apply the deep reinforcement learning techniques to a simple game: an agent will have to learn from scratch a policy that will permit it maximizing a reward."
   ]
  },
  {
   "cell_type": "markdown",
   "metadata": {},
   "source": [
    "## The environment, the agent and the game"
   ]
  },
  {
   "cell_type": "markdown",
   "metadata": {},
   "source": [
    "### The environment"
   ]
  },
  {
   "cell_type": "markdown",
   "metadata": {},
   "source": [
    "```Environment``` is an abstract class that represents the states, rewards, and actions to obtain the new state."
   ]
  },
  {
   "cell_type": "code",
   "execution_count": 2,
   "metadata": {},
   "outputs": [],
   "source": [
    "class Environment(object):\n",
    "    def __init__(self):\n",
    "        pass\n",
    "\n",
    "    def act(self, act):\n",
    "        \"\"\"\n",
    "        One can act on the environment and obtain its reaction:\n",
    "        - the new state\n",
    "        - the reward of the new state\n",
    "        - should we continue the game?\n",
    "\n",
    "        :return: state, reward, game_over\n",
    "        \"\"\"\n",
    "        pass\n",
    "\n",
    "\n",
    "    def reset(self):\n",
    "        \"\"\"\n",
    "        Reinitialize the environment to a random state and returns\n",
    "        the original state\n",
    "\n",
    "        :return: state\n",
    "        \"\"\"\n",
    "        pass\n",
    "    \n",
    "    def draw(self):\n",
    "        \"\"\"\n",
    "        Visualize in the console or graphically the current state\n",
    "        \"\"\"\n",
    "        pass"
   ]
  },
  {
   "cell_type": "markdown",
   "metadata": {},
   "source": [
    "The method ```act``` allows to act on the environment at a given state $s_t$ (stored internally), via action $a_t$. The method will return the new state $s_{t+1}$, the reward $r(s_{t},a_{t})$ and determines if $t\\leq T$ (*game_over*).\n",
    "\n",
    "The method ```reset``` simply reinitializes the environment to a random state $s_0$.\n",
    "\n",
    "The method ```draw``` displays the current state $s_t$ (this is useful to check the behavior of the Agent).\n",
    "\n",
    "We modelize $s_t$ as a tensor, while $a_t$ is an integer."
   ]
  },
  {
   "cell_type": "markdown",
   "metadata": {},
   "source": [
    "### The Agent"
   ]
  },
  {
   "cell_type": "markdown",
   "metadata": {},
   "source": [
    "The goal of the ```Agent``` is to interact with the ```Environment``` by proposing actions $a_t$ obtained from a given state $s_t$ to attempt to maximize its __reward__ $r(s_t,a_t)$. We propose the following abstract class:"
   ]
  },
  {
   "cell_type": "code",
   "execution_count": 3,
   "metadata": {},
   "outputs": [],
   "source": [
    "class Agent(object):\n",
    "    def __init__(self, epsilon=0.1, n_action=4):\n",
    "        self.epsilon = epsilon\n",
    "        self.n_action = n_action\n",
    "    \n",
    "    def set_epsilon(self,e):\n",
    "        self.epsilon = e\n",
    "\n",
    "    def get_epsilon(self):\n",
    "        return self.epsilon\n",
    "      \n",
    "    def act(self,s,train=True):\n",
    "        \"\"\" This function should return the next action to do:\n",
    "        an integer between 0 and 4 (not included) with a random exploration of epsilon\"\"\"\n",
    "        if train:\n",
    "            if np.random.rand() <= self.epsilon:\n",
    "                a = np.random.randint(0, self.n_action, size=1)[0]\n",
    "            else:\n",
    "                a = self.learned_act(s)\n",
    "        else: # in some cases, this can improve the performance.. remove it if poor performances\n",
    "            a = self.learned_act(s)\n",
    "\n",
    "        return a\n",
    "\n",
    "    def learned_act(self,s):\n",
    "        \"\"\" Act via the policy of the agent, from a given state s\n",
    "        it proposes an action a\"\"\"\n",
    "        pass\n",
    "\n",
    "    def reinforce(self, s, n_s, a, r, game_over_):\n",
    "        \"\"\" This function is the core of the learning algorithm. \n",
    "        It takes as an input the current state s_, the next state n_s_\n",
    "        the action a_ used to move from s_ to n_s_ and the reward r_.\n",
    "        \n",
    "        Its goal is to learn a policy.\n",
    "        \"\"\"\n",
    "        pass\n",
    "\n",
    "    def save(self):\n",
    "        \"\"\" This function returns basic stats if applicable: the\n",
    "        loss and/or the model\"\"\"\n",
    "        pass\n",
    "\n",
    "    def load(self):\n",
    "        \"\"\" This function allows to restore a model\"\"\"\n",
    "        pass"
   ]
  },
  {
   "cell_type": "markdown",
   "metadata": {},
   "source": [
    "***\n",
    "__Question 1__:\n",
    "Explain the function act. Why is ```epsilon``` essential?"
   ]
  },
  {
   "cell_type": "markdown",
   "metadata": {},
   "source": [
    "Function act allows the agent to take an action given a state s. In a training setting, a random action is taken if a randomly generated value is less than epsilon and the learned best action is taken otherwise.\n",
    "\n",
    "In a test setting, the best learned action is taken from state s.\n",
    "\n",
    "The introduction of epsilon allows us to overcome the problem of always taking the best learned possible option even if there is a better option out there and consequently allowed us to do epxloration. A random action is taken every now and then (when the randomly generated value i <= epsilon)."
   ]
  },
  {
   "cell_type": "markdown",
   "metadata": {},
   "source": [
    "***\n",
    "### The Game"
   ]
  },
  {
   "cell_type": "markdown",
   "metadata": {},
   "source": [
    "The ```Agent``` and the ```Environment``` work in an interlaced way as in the following (take some time to understand this code as it is the core of the project)\n",
    "\n",
    "```python\n",
    "\n",
    "epoch = 300\n",
    "env = Environment()\n",
    "agent = Agent()\n",
    "\n",
    "\n",
    "# Number of won games\n",
    "score = 0\n",
    "loss = 0\n",
    "\n",
    "\n",
    "for e in range(epoch):\n",
    "    # At each epoch, we restart to a fresh game and get the initial state\n",
    "    state = env.reset()\n",
    "    # This assumes that the games will end\n",
    "    game_over = False\n",
    "\n",
    "    win = 0\n",
    "    lose = 0\n",
    "    \n",
    "    while not game_over:\n",
    "        # The agent performs an action\n",
    "        action = agent.act(state)\n",
    "\n",
    "        # Apply an action to the environment, get the next state, the reward\n",
    "        # and if the games end\n",
    "        prev_state = state\n",
    "        state, reward, game_over = env.act(action)\n",
    "\n",
    "        # Update the counters\n",
    "        if reward > 0:\n",
    "            win = win + reward\n",
    "        if reward < 0:\n",
    "            lose = lose -reward\n",
    "\n",
    "        # Apply the reinforcement strategy\n",
    "        loss = agent.reinforce(prev_state, state,  action, reward, game_over)\n",
    "\n",
    "    # Save as a mp4\n",
    "    if e % 10 == 0:\n",
    "        env.draw(e)\n",
    "\n",
    "    # Update stats\n",
    "    score += win-lose\n",
    "\n",
    "    print(\"Epoch {:03d}/{:03d} | Loss {:.4f} | Win/lose count {}/{} ({})\"\n",
    "          .format(e, epoch, loss, win, lose, win-lose))\n",
    "    agent.save()\n",
    "```"
   ]
  },
  {
   "cell_type": "markdown",
   "metadata": {},
   "source": [
    "# The game, *eat cheese*"
   ]
  },
  {
   "cell_type": "markdown",
   "metadata": {},
   "source": [
    "A rat runs on an island and tries to eat as much as possible. The island is subdivided into $N\\times N$ cells, in which there are cheese (+0.5) and poisonous cells (-1). The rat has a visibility of 2 cells (thus it can see $5^2$ cells). The rat is given a time $T$ to accumulate as much food as possible. It can perform 4 actions: going up, down, left, right. \n",
    "\n",
    "The goal is to code an agent to solve this task that will learn by trial and error. We propose the following environment:"
   ]
  },
  {
   "cell_type": "code",
   "execution_count": 4,
   "metadata": {},
   "outputs": [],
   "source": [
    "class Environment(object):\n",
    "    def __init__(self, grid_size=10, max_time=500, temperature=0.1):\n",
    "        grid_size = grid_size+4\n",
    "        self.grid_size = grid_size\n",
    "        self.max_time = max_time\n",
    "        self.temperature = temperature\n",
    "\n",
    "        #board on which one plays\n",
    "        self.board = np.zeros((grid_size,grid_size))\n",
    "        self.position = np.zeros((grid_size,grid_size))\n",
    "\n",
    "        # coordinate of the cat\n",
    "        self.x = 0\n",
    "        self.y = 1\n",
    "\n",
    "        # self time\n",
    "        self.t = 0\n",
    "\n",
    "        self.scale=16\n",
    "\n",
    "        self.to_draw = np.zeros((max_time+2, grid_size*self.scale, grid_size*self.scale, 3))\n",
    "\n",
    "\n",
    "    def draw(self,e):\n",
    "        skvideo.io.vwrite(str(e) + '.mp4', self.to_draw)\n",
    "\n",
    "    \n",
    "    def get_frame(self,t):\n",
    "        b = np.zeros((self.grid_size,self.grid_size,3))+128\n",
    "        b[self.board>0,0] = 256\n",
    "        b[self.board < 0, 2] = 256\n",
    "        b[self.x,self.y,:]=256\n",
    "        b[-2:,:,:]=0\n",
    "        b[:,-2:,:]=0\n",
    "        b[:2,:,:]=0\n",
    "        b[:,:2,:]=0\n",
    "        \n",
    "        b =  cv2.resize(b, None, fx=self.scale, fy=self.scale, interpolation=cv2.INTER_NEAREST)\n",
    "\n",
    "        self.to_draw[t,:,:,:]=b\n",
    "\n",
    "\n",
    "    def act(self, action):\n",
    "        \"\"\"This function returns the new state, reward and decides if the\n",
    "        game ends.\"\"\"\n",
    "\n",
    "        self.get_frame(int(self.t))\n",
    "\n",
    "        self.position = np.zeros((self.grid_size, self.grid_size))\n",
    "\n",
    "        self.position[0:2,:]= -1\n",
    "        self.position[:,0:2] = -1\n",
    "        self.position[-2:, :] = -1\n",
    "        self.position[-2:, :] = -1\n",
    "\n",
    "        self.position[self.x, self.y] = 1\n",
    "        if action == 0:\n",
    "            if self.x == self.grid_size-3:\n",
    "                self.x = self.x-1\n",
    "            else:\n",
    "                self.x = self.x + 1\n",
    "        elif action == 1:\n",
    "            if self.x == 2:\n",
    "                self.x = self.x+1\n",
    "            else:\n",
    "                self.x = self.x-1\n",
    "        elif action == 2:\n",
    "            if self.y == self.grid_size - 3:\n",
    "                self.y = self.y - 1\n",
    "            else:\n",
    "                self.y = self.y + 1\n",
    "        elif action == 3:\n",
    "            if self.y == 2:\n",
    "                self.y = self.y + 1\n",
    "            else:\n",
    "                self.y = self.y - 1\n",
    "        else:\n",
    "            RuntimeError('Error: action not recognized')\n",
    "\n",
    "        self.t = self.t + 1\n",
    "        reward = self.board[self.x, self.y]\n",
    "        self.board[self.x, self.y] = 0\n",
    "        game_over = self.t > self.max_time\n",
    "        state = np.concatenate((self.board.reshape(self.grid_size, self.grid_size,1),\n",
    "                        self.position.reshape(self.grid_size, self.grid_size,1)),axis=2)\n",
    "        state = state[self.x-2:self.x+3,self.y-2:self.y+3,:]\n",
    "\n",
    "        return state, reward, game_over\n",
    "\n",
    "    def reset(self):\n",
    "        \"\"\"This function resets the game and returns the initial state\"\"\"\n",
    "\n",
    "        self.x = np.random.randint(3, self.grid_size-3, size=1)[0]\n",
    "        self.y = np.random.randint(3, self.grid_size-3, size=1)[0]\n",
    "\n",
    "\n",
    "        bonus = 0.5*np.random.binomial(1,self.temperature,size=self.grid_size**2)\n",
    "        bonus = bonus.reshape(self.grid_size,self.grid_size)\n",
    "\n",
    "        malus = -1.0*np.random.binomial(1,self.temperature,size=self.grid_size**2)\n",
    "        malus = malus.reshape(self.grid_size, self.grid_size)\n",
    "\n",
    "        self.to_draw = np.zeros((self.max_time+2, self.grid_size*self.scale, self.grid_size*self.scale, 3))\n",
    "\n",
    "\n",
    "        malus[bonus>0]=0\n",
    "\n",
    "        self.board = bonus + malus\n",
    "\n",
    "        self.position = np.zeros((self.grid_size, self.grid_size))\n",
    "        self.position[0:2,:]= -1\n",
    "        self.position[:,0:2] = -1\n",
    "        self.position[-2:, :] = -1\n",
    "        self.position[-2:, :] = -1\n",
    "        self.board[self.x,self.y] = 0\n",
    "        self.t = 0\n",
    "\n",
    "        state = np.concatenate((\n",
    "                               self.board.reshape(self.grid_size, self.grid_size,1),\n",
    "                        self.position.reshape(self.grid_size, self.grid_size,1)),axis=2)\n",
    "\n",
    "        state = state[self.x - 2:self.x + 3, self.y - 2:self.y + 3, :]\n",
    "        return state"
   ]
  },
  {
   "cell_type": "markdown",
   "metadata": {},
   "source": [
    "The following elements are important because they correspond to the hyper parameters for this project:"
   ]
  },
  {
   "cell_type": "code",
   "execution_count": 5,
   "metadata": {},
   "outputs": [],
   "source": [
    "# parameters\n",
    "size = 13\n",
    "T=200\n",
    "temperature=0.3\n",
    "epochs_train=20 # set small when debugging\n",
    "epochs_test=20 # set small when debugging\n",
    "\n",
    "# display videos\n",
    "def display_videos(name):\n",
    "    video = io.open(name, 'r+b').read()\n",
    "    encoded = base64.b64encode(video)\n",
    "    return '''<video alt=\"test\" controls>\n",
    "                <source src=\"data:video/mp4;base64,{0}\" type=\"video/mp4\" />\n",
    "             </video>'''.format(encoded.decode('ascii'))"
   ]
  },
  {
   "cell_type": "markdown",
   "metadata": {},
   "source": [
    "__Question 2__ Explain the use of the arrays ```position``` and ```board```."
   ]
  },
  {
   "cell_type": "markdown",
   "metadata": {},
   "source": [
    "position: keeps track of the position of the rat on the board. All cells are represented as zeros except the position of the rat that is set to 1 and the borders that are set to -1\n",
    "\n",
    "board: represents the island on which the rat moves and representes a view of the rewards. Each cell and whether it contains posion, cheese or is neutral contains -1, 0.5 or 0 respectively."
   ]
  },
  {
   "cell_type": "markdown",
   "metadata": {},
   "source": [
    "## Random Agent"
   ]
  },
  {
   "cell_type": "markdown",
   "metadata": {},
   "source": [
    "***\n",
    "__Question 3__ Implement a random Agent (only ```learned_act``` needs to be implemented):"
   ]
  },
  {
   "cell_type": "code",
   "execution_count": 6,
   "metadata": {},
   "outputs": [],
   "source": [
    "class RandomAgent(Agent):\n",
    "    def __init__(self):\n",
    "        super(RandomAgent, self).__init__()\n",
    "        pass\n",
    "\n",
    "    def learned_act(self, s):\n",
    "        return rd.randint(1,4)"
   ]
  },
  {
   "cell_type": "markdown",
   "metadata": {},
   "source": [
    "***\n",
    "***\n",
    "__Question 4__ Visualize the game moves. You need to fill in the following function for the evaluation:"
   ]
  },
  {
   "cell_type": "code",
   "execution_count": 7,
   "metadata": {},
   "outputs": [],
   "source": [
    "def test(agent,env,epochs,prefix=''):\n",
    "    # Number of won games\n",
    "    score = 0\n",
    "        \n",
    "    for e in range(epochs):\n",
    "        \n",
    "        ##### FILL IN HERE\n",
    "        \n",
    "        #resetting the game\n",
    "        win = 0\n",
    "        lose = 0\n",
    "        s = env.reset() \n",
    "        game_over = False\n",
    "        \n",
    "        #while the game is not over\n",
    "        #perform an action, update previous state and get the new state, reward and game status\n",
    "        #update win/lose based on reward value\n",
    "        while game_over == False: \n",
    "            s_prev = s\n",
    "            action = agent.learned_act(s)\n",
    "            s, reward, game_over = env.act(action)\n",
    "            if reward > 0:\n",
    "                win = win + reward\n",
    "            if reward < 0:\n",
    "                lose = lose + reward\n",
    "\n",
    "        \n",
    "        # Save as a mp4\n",
    "        env.draw(prefix+str(e))\n",
    "\n",
    "        # Update stats\n",
    "        score = score + win-lose\n",
    "\n",
    "        print(\"Win/lose count {}/{}. Average score ({})\"\n",
    "              .format(win, lose, score/(1+e)))\n",
    "    print('Final score: '+str(score/epochs))"
   ]
  },
  {
   "cell_type": "code",
   "execution_count": 8,
   "metadata": {},
   "outputs": [
    {
     "name": "stdout",
     "output_type": "stream",
     "text": [
      "Win/lose count 4.0/-6.0. Average score (10.0)\n",
      "Win/lose count 2.0/-5.0. Average score (8.5)\n",
      "Win/lose count 5.5/-5.0. Average score (9.166666666666666)\n",
      "Win/lose count 5.0/-4.0. Average score (9.125)\n",
      "Win/lose count 0.5/-1.0. Average score (7.6)\n",
      "Win/lose count 6.0/-6.0. Average score (8.333333333333334)\n",
      "Win/lose count 6.5/-11.0. Average score (9.642857142857142)\n",
      "Win/lose count 4.5/-9.0. Average score (10.125)\n",
      "Win/lose count 5.5/-6.0. Average score (10.277777777777779)\n",
      "Win/lose count 7.5/-8.0. Average score (10.8)\n",
      "Win/lose count 6.0/-5.0. Average score (10.818181818181818)\n",
      "Win/lose count 6.0/-9.0. Average score (11.166666666666666)\n",
      "Win/lose count 2.5/-2.0. Average score (10.653846153846153)\n",
      "Win/lose count 5.5/-7.0. Average score (10.785714285714286)\n",
      "Win/lose count 3.5/-10.0. Average score (10.966666666666667)\n",
      "Win/lose count 4.0/-7.0. Average score (10.96875)\n",
      "Win/lose count 3.5/-9.0. Average score (11.058823529411764)\n",
      "Win/lose count 5.5/-6.0. Average score (11.083333333333334)\n",
      "Win/lose count 4.0/-8.0. Average score (11.131578947368421)\n",
      "Win/lose count 4.0/-5.0. Average score (11.025)\n",
      "Final score: 11.025\n"
     ]
    },
    {
     "data": {
      "text/html": [
       "<video alt=\"test\" controls>\n",
       "                <source src=\"data:video/mp4;base64,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\" type=\"video/mp4\" />\n",
       "             </video>"
      ],
      "text/plain": [
       "<IPython.core.display.HTML object>"
      ]
     },
     "execution_count": 8,
     "metadata": {},
     "output_type": "execute_result"
    }
   ],
   "source": [
    "# Initialize the game\n",
    "env = Environment(grid_size=size, max_time=T,temperature=temperature)\n",
    "\n",
    "# Initialize the agent!\n",
    "agent = RandomAgent()\n",
    "\n",
    "test(agent,env,epochs_test,prefix='random')\n",
    "HTML(display_videos('random0.mp4'))"
   ]
  },
  {
   "cell_type": "markdown",
   "metadata": {},
   "source": [
    "***\n",
    "## DQN"
   ]
  },
  {
   "cell_type": "markdown",
   "metadata": {},
   "source": [
    "Let us assume here that $T=\\infty$.\n",
    "\n",
    "***\n",
    "__Question 5__ Let $\\pi$ be a policy, show that:\n",
    "\n",
    "\\begin{equation*}\n",
    "Q^{\\pi}(s,a)=E_{(s',a')\\sim p(.|s,a)}[r(s,a)+\\gamma Q^{\\pi}(s',a')]\n",
    "\\end{equation*}\n",
    "\n",
    "Then, show that for the optimal policy $\\pi^*$ (we assume its existence), the following holds: \n",
    "\n",
    "\\begin{equation*}\n",
    "Q^{*}(s,a)=E_{s'\\sim \\pi^*(.|s,a)}[r(s,a)+\\gamma\\max_{a'}Q^{*}(s',a')].\n",
    "\\end{equation*}\n",
    "Finally, deduce that a plausible objective is:\n",
    "\n",
    "\\begin{equation*}\n",
    "\\mathcal{L}(\\theta)=E_{s' \\sim \\pi^*(.|s,a)}\\Vert r+\\gamma\\max\\max_{a'}Q(s',a',\\theta)-Q(s,a,\\theta)\\Vert^{2}.\n",
    "\\end{equation*}\n",
    "\n",
    "\n"
   ]
  },
  {
   "cell_type": "markdown",
   "metadata": {},
   "source": [
    "__Answer__\n",
    " "
   ]
  },
  {
   "cell_type": "markdown",
   "metadata": {},
   "source": [
    "\\begin{equation} \n",
    "Q^\\pi(s,a)=E{p^{\\pi}}[\\sum_{t=0}^{inf}\\gamma^{t}r(s_{t},a_{t})|s_{0}=s,a_{0}=a] \n",
    "\\end{equation}\n",
    "\\begin{equation} \n",
    "Q^\\pi(s,a)=E{p^{\\pi}} [r(s_{0},a_{0})+\\gamma \\sum_{t=1}^{inf}\\gamma^{t-1}r(s_{t},a_{t})|s_{0}=s,a_{0}=a] \n",
    "\\end{equation}\n",
    "\\begin{equation} \n",
    "Q^\\pi(s,a)=r(s,a)+\\gamma E{p^{\\pi}} [ \\sum_{t=0}^{inf}\\gamma^{t}r(s_{t+1},a_{t+1})|s_{0}=s,a_{0}=a] \n",
    "\\end{equation}\n",
    "\\begin{equation} \n",
    "Q^\\pi(s,a)=r(s,a)+ \\gamma E_{(s',a')  \\tilde\\  p(.|s,a)} (E{p^{\\pi}} [ \\sum_{t=0}^{inf}\\gamma^{t}r(s_{t},a_{t})|s_{0}=s,a_{0}=a] )\n",
    "\\end{equation}\n",
    "\\begin{equation} \n",
    "Q^\\pi(s,a)=E_{(s',a')  \\sim\\  p(.|s,a)} (r(s,a)+ \\gamma  E{p^{\\pi}} [ \\sum_{t=0}^{inf}\\gamma^{t}r(s_{t},a_{t})|s_{0}=s,a_{0}=a] )\n",
    "\\end{equation}\n",
    "\\begin{equation} \n",
    "Q^\\pi(s,a)=E_{(s',a')  \\sim\\  p(.|s,a)} (r(s,a)+ \\gamma Q^\\pi(s',a')  )\n",
    "\\end{equation}"
   ]
  },
  {
   "cell_type": "markdown",
   "metadata": {},
   "source": [
    "optimal Q function:\n",
    "\\begin{equation}\n",
    "Q^*(s,a)=\\max_{\\pi}Q^\\pi(s,a) \n",
    "\\end{equation}\n",
    "\\begin{equation}\n",
    "Q^*(s,a)= \\max_{\\pi} E_{(s',a')\\sim p(.|s,a)}[r(s,a)+\\gamma Q^{\\pi}(s',a')] \n",
    "\\end{equation}\n",
    "\\begin{equation}\n",
    "Q^*(s,a)= E_{s'\\sim \\pi^*(.|s,a)}[r(s,a)+\\gamma Q^{\\pi^*}(s',a')] \n",
    "\\end{equation}\n",
    "\\begin{equation}\n",
    "Q^*(s,a)= E_{s'\\sim \\pi^*(.|s,a)}[r(s,a)+\\gamma\\max_{a'}Q^{*}(s',a')].\n",
    "\\end{equation}"
   ]
  },
  {
   "cell_type": "markdown",
   "metadata": {},
   "source": [
    "A plausible objective is one that minimizes loss:\n",
    "\\begin{equation}\n",
    "\\mathcal{L}(\\theta) =  [ Q^* (s,a,\\theta ) - Q(s,a,\\theta)] ^2\n",
    "\\end{equation}\n",
    "\\begin{equation}\n",
    "\\mathcal{L}(\\theta) =  (E_{s' \\sim \\pi^*(.|s,a)} [ ( r(s,a,s')+\\gamma\\max_{a'}Q^{*}(s',a', \\theta)] - Q(s,a,\\theta) )^2 \n",
    "\\end{equation}\n",
    "\\begin{equation}\n",
    "\\mathcal{L}(\\theta) = E_{s' \\sim \\pi^*(.|s,a)}\\Vert r+\\gamma\\max\\max_{a'}Q(s',a',\\theta)-Q(s,a,\\theta)\\Vert^{2}.\n",
    "\\end{equation}"
   ]
  },
  {
   "cell_type": "markdown",
   "metadata": {},
   "source": [
    "***\n",
    "The DQN-learning algorithm relies on these derivations to train the parameters $\\theta$ of a Deep Neural Network:\n",
    "\n",
    "1. At the state $s_t$, select the action $a_t$ with best reward using $Q_t$ and store the results;\n",
    "\n",
    "2. Obtain the new state $s_{t+1}$ from the environment $p$;\n",
    "\n",
    "3. Store $(s_t,a_t,s_{t+1})$;\n",
    "\n",
    "4. Obtain $Q_{t+1}$ by minimizing  $\\mathcal{L}$ from a recovered batch from the previously stored results.\n",
    "\n",
    "***\n",
    "__Question 6__ Implement the class ```Memory``` that stores moves (in a replay buffer) via ```remember``` and provides a ```random_access``` to these. Specify a maximum memory size to avoid side effects. You can for example use a ```list()``` and set by default ```max_memory=100```."
   ]
  },
  {
   "cell_type": "code",
   "execution_count": 9,
   "metadata": {},
   "outputs": [],
   "source": [
    "class Memory(object):\n",
    "    def __init__(self, max_memory=100):\n",
    "        self.max_memory = max_memory\n",
    "        self.memory = list()\n",
    "\n",
    "    def remember(self, m):\n",
    "        self.memory.append(m)\n",
    "\n",
    "    def random_access(self):\n",
    "        rand = rd.randint(0,len(self.memory)-1)\n",
    "        return self.memory[rand]"
   ]
  },
  {
   "cell_type": "markdown",
   "metadata": {},
   "source": [
    "***\n",
    "The pipeline we will use for training is given below:"
   ]
  },
  {
   "cell_type": "code",
   "execution_count": 10,
   "metadata": {},
   "outputs": [],
   "source": [
    "def train(agent,env,epoch,prefix=''):\n",
    "    # Number of won games\n",
    "    score = 0\n",
    "    loss = 0\n",
    "    for e in range(epoch):\n",
    "        # At each epoch, we restart to a fresh game and get the initial state\n",
    "        state = env.reset()\n",
    "        # This assumes that the games will terminate\n",
    "        game_over = False\n",
    "\n",
    "        win = 0\n",
    "        lose = 0\n",
    "\n",
    "        while not game_over:\n",
    "            # The agent performs an action\n",
    "            action = agent.act(state)\n",
    "\n",
    "            # Apply an action to the environment, get the next state, the reward\n",
    "            # and if the games end\n",
    "            prev_state = state\n",
    "            state, reward, game_over = env.act(action)\n",
    "\n",
    "            # Update the counters\n",
    "            if reward > 0:\n",
    "                win = win + reward\n",
    "            if reward < 0:\n",
    "                lose = lose -reward\n",
    "\n",
    "            # Apply the reinforcement strategy\n",
    "            loss = agent.reinforce(prev_state, state,  action, reward, game_over)\n",
    "        # Save as a mp4\n",
    "        if e % 10 == 0:\n",
    "            env.draw(prefix+str(e))\n",
    "\n",
    "        # Update stats\n",
    "        score += win-lose\n",
    "\n",
    "        print(\"Epoch {:03d}/{:03d} | Loss {:.4f} | Win/lose count {}/{} ({})\"\n",
    "              .format(e, epoch, loss, win, lose, win-lose))\n",
    "        agent.save(name_weights=prefix+'model.h5',name_model=prefix+'model.json')"
   ]
  },
  {
   "cell_type": "markdown",
   "metadata": {},
   "source": [
    "***\n",
    "__Question 7__ Implement the DQN training algorithm using a cascade of fully connected layers. You can use different learning rate, batch size or memory size parameters. In particular, the loss might oscillate while the player will start to win the games. You have to find a good criterium."
   ]
  },
  {
   "cell_type": "code",
   "execution_count": 11,
   "metadata": {},
   "outputs": [],
   "source": [
    "class DQN(Agent):\n",
    "    def __init__(self, grid_size,  epsilon = 0.1, memory_size=100, batch_size = 16,n_state=2):\n",
    "        super(DQN, self).__init__(epsilon = epsilon)\n",
    "\n",
    "        # Discount for Q learning\n",
    "        self.discount = 0.99\n",
    "        \n",
    "        self.grid_size = grid_size\n",
    "        \n",
    "        # number of state\n",
    "        self.n_state = n_state\n",
    "\n",
    "        # Memory\n",
    "        self.memory = Memory(memory_size)\n",
    "        \n",
    "        # Batch size when learning\n",
    "        self.batch_size = batch_size\n",
    "\n",
    "    def learned_act(self, s):\n",
    "        #using s, predict the reward value #elaborate more here\n",
    "        s = np.reshape(s,[1,5,5,self.n_state])\n",
    "\n",
    "        reward_pred = self.model.predict(s)\n",
    "        reward_max = np.argmax(reward_pred[0])\n",
    "        return reward_max\n",
    "\n",
    "\n",
    "    def reinforce(self, s_, n_s_, a_, r_, game_over_):\n",
    "        # Two steps: first memorize the states, second learn from the pool\n",
    "        s_ = np.reshape(s_,[1,5,5,self.n_state])\n",
    "        n_s_ = np.reshape(n_s_,[1,5,5,self.n_state])\n",
    "\n",
    "        self.memory.remember([s_, n_s_, a_, r_, game_over_])\n",
    "        \n",
    "        input_states = np.zeros((self.batch_size, 5,5,self.n_state))\n",
    "        target_q = np.zeros((self.batch_size, 4))\n",
    "        \n",
    "        \n",
    "        for i in range(self.batch_size):\n",
    "            ######## FILL IN\n",
    "            target = r_\n",
    "            #minibatch= self.memory.random_access()\n",
    "\n",
    "            s_, n_s_,a_ , r_, game_over_ = self.memory.random_access()\n",
    "            #s_= minibatch[0]\n",
    "            #n_s_= minibatch[1]\n",
    "            #a_ = minibatch[2]\n",
    "            #r_= minibatch[3]\n",
    "            #game_over_= minibatch[4]\n",
    "\n",
    "\n",
    "            input_states[i]= s_.copy()\n",
    "            ##############\n",
    "            \n",
    "            if game_over_:\n",
    "                ######## FILL IN\n",
    "                target= r_\n",
    "                #######\n",
    "            else:\n",
    "                ######## FILL IN\n",
    "                #target = (r_ + self.discount * np.amax(self.model.predict(n_s_)[0]))\n",
    "                target = r_ + self.discount * max(self.model.predict(n_s_)[0])\n",
    "                ##########\n",
    "                \n",
    "\n",
    "\n",
    "            ############\n",
    "            target_int = self.model.predict(s_)\n",
    "\n",
    "            target_int[0][a_] = target\n",
    "\n",
    "            self.model.fit(s_, target_int, epochs=1, verbose=0)\n",
    "            target_q[i]=target_int\n",
    "            ##########\n",
    "            \n",
    "        ######## FILL IN\n",
    "        # HINT: Clip the target to avoid exploiding gradients.. -- clipping is a bit tighter\n",
    "        target_q = np.clip(target_q, -3, 3)\n",
    "\n",
    "\n",
    "        l = self.model.train_on_batch(input_states, target_q)\n",
    "\n",
    "\n",
    "\n",
    "        return l\n",
    "\n",
    "    def save(self,name_weights='model.h5',name_model='model.json'):\n",
    "        self.model.save_weights(name_weights, overwrite=True)\n",
    "        with open(name_model, \"w\") as outfile:\n",
    "            json.dump(self.model.to_json(), outfile)\n",
    "            \n",
    "    def load(self,name_weights='model.h5',name_model='model.json'):\n",
    "        with open(name_model, \"r\") as jfile:\n",
    "            model = model_from_json(json.load(jfile))\n",
    "        model.load_weights(name_weights)\n",
    "        model.compile(\"sgd\", \"mse\")\n",
    "        self.model = model\n",
    "\n",
    "            \n",
    "class DQN_FC(DQN):\n",
    "    def __init__(self, *args, lr=0.1,**kwargs):\n",
    "        super(DQN_FC, self).__init__( *args,**kwargs)\n",
    "        \n",
    "        # NN Model\n",
    "        \n",
    "        ####### FILL IN\n",
    "        model = Sequential()\n",
    "        model.add(Reshape((5*5* 2, ), input_shape = (5, 5, 2)))\n",
    "        model.add(Dense(256, input_dim=5*5*2,activation = \"relu\"))\n",
    "        model.add(Dense(4, activation = \"linear\"))\n",
    "        model.compile(sgd(lr=lr, decay=1e-4, momentum=0.0), \"mse\")\n",
    "        self.model = model\n",
    "        "
   ]
  },
  {
   "cell_type": "code",
   "execution_count": 12,
   "metadata": {},
   "outputs": [
    {
     "name": "stdout",
     "output_type": "stream",
     "text": [
      "Epoch 000/020 | Loss 0.0516 | Win/lose count 5.0/1.0 (4.0)\n",
      "Epoch 001/020 | Loss 0.1709 | Win/lose count 4.5/3.0 (1.5)\n",
      "Epoch 002/020 | Loss 0.1054 | Win/lose count 2.0/4.0 (-2.0)\n",
      "Epoch 003/020 | Loss 0.1572 | Win/lose count 5.5/2.0 (3.5)\n",
      "Epoch 004/020 | Loss 0.0367 | Win/lose count 2.5/2.0 (0.5)\n",
      "Epoch 005/020 | Loss 0.1006 | Win/lose count 3.5/1.0 (2.5)\n",
      "Epoch 006/020 | Loss 0.1115 | Win/lose count 5.5/2.0 (3.5)\n",
      "Epoch 007/020 | Loss 0.1596 | Win/lose count 5.0/2.0 (3.0)\n",
      "Epoch 008/020 | Loss 0.1245 | Win/lose count 5.0/6.0 (-1.0)\n",
      "Epoch 009/020 | Loss 0.1653 | Win/lose count 4.0/2.0 (2.0)\n",
      "Epoch 010/020 | Loss 0.2188 | Win/lose count 2.0/1.0 (1.0)\n",
      "Epoch 011/020 | Loss 0.1513 | Win/lose count 7.0/4.0 (3.0)\n",
      "Epoch 012/020 | Loss 0.1250 | Win/lose count 6.0/1.0 (5.0)\n",
      "Epoch 013/020 | Loss 0.1269 | Win/lose count 8.5/0 (8.5)\n",
      "Epoch 014/020 | Loss 0.1643 | Win/lose count 7.0/5.0 (2.0)\n",
      "Epoch 015/020 | Loss 0.0814 | Win/lose count 6.5/1.0 (5.5)\n",
      "Epoch 016/020 | Loss 0.1818 | Win/lose count 12.0/4.0 (8.0)\n",
      "Epoch 017/020 | Loss 0.0836 | Win/lose count 7.0/3.0 (4.0)\n",
      "Epoch 018/020 | Loss 0.1439 | Win/lose count 11.0/2.0 (9.0)\n",
      "Epoch 019/020 | Loss 0.1778 | Win/lose count 2.0/2.0 (0.0)\n"
     ]
    },
    {
     "data": {
      "text/html": [
       "<video alt=\"test\" controls>\n",
       "                <source src=\"data:video/mp4;base64,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\" type=\"video/mp4\" />\n",
       "             </video>"
      ],
      "text/plain": [
       "<IPython.core.display.HTML object>"
      ]
     },
     "execution_count": 12,
     "metadata": {},
     "output_type": "execute_result"
    }
   ],
   "source": [
    "env = Environment(grid_size=size, max_time=T, temperature=0.3)\n",
    "agent = DQN_FC(size, lr=.1, epsilon = 0.1, memory_size=2000, batch_size = 32)\n",
    "train(agent, env, epochs_train, prefix='fc_train')\n",
    "HTML(display_videos('fc_train10.mp4'))"
   ]
  },
  {
   "cell_type": "markdown",
   "metadata": {},
   "source": [
    "***\n",
    "***\n",
    "__Question 8__ Implement the DQN training algorithm using a CNN (for example, 2 convolutional layers and one final fully connected layer)."
   ]
  },
  {
   "cell_type": "code",
   "execution_count": 15,
   "metadata": {},
   "outputs": [],
   "source": [
    "class DQN_CNN(DQN):\n",
    "    def __init__(self, *args,lr=0.1,**kwargs):\n",
    "        super(DQN_CNN, self).__init__(*args,**kwargs)\n",
    "        \n",
    "        ###### FILL IN\n",
    "        \n",
    "        model = Sequential()\n",
    "        model.add(Conv2D(64, (3, 3), input_shape = (5, 5, self.n_state), activation = 'relu'))\n",
    "        model.add(Conv2D(32, (3, 3), activation = 'relu'))\n",
    "        model.add(Dropout(0.2))\n",
    "        model.add(Flatten())\n",
    "        model.add(Dense(16, activation = \"relu\"))\n",
    "        model.add(Dense(4, activation = \"linear\"))\n",
    "\n",
    "        \n",
    "        model.compile(sgd(lr=lr, decay=1e-4, momentum=0.0), \"mse\")\n",
    "        self.model = model"
   ]
  },
  {
   "cell_type": "code",
   "execution_count": 16,
   "metadata": {},
   "outputs": [
    {
     "name": "stdout",
     "output_type": "stream",
     "text": [
      "Epoch 000/020 | Loss 0.0028 | Win/lose count 1.0/6.0 (-5.0)\n",
      "Epoch 001/020 | Loss 0.0098 | Win/lose count 2.0/1.0 (1.0)\n",
      "Epoch 002/020 | Loss 0.0007 | Win/lose count 3.5/4.0 (-0.5)\n",
      "Epoch 003/020 | Loss 0.0013 | Win/lose count 4.0/3.0 (1.0)\n",
      "Epoch 004/020 | Loss 0.0193 | Win/lose count 6.0/4.0 (2.0)\n",
      "Epoch 005/020 | Loss 0.0083 | Win/lose count 3.5/0 (3.5)\n",
      "Epoch 006/020 | Loss 0.0341 | Win/lose count 4.0/4.0 (0.0)\n",
      "Epoch 007/020 | Loss 0.0017 | Win/lose count 5.0/1.0 (4.0)\n",
      "Epoch 008/020 | Loss 0.0006 | Win/lose count 5.0/1.0 (4.0)\n",
      "Epoch 009/020 | Loss 0.0230 | Win/lose count 4.0/6.0 (-2.0)\n",
      "Epoch 010/020 | Loss 0.0031 | Win/lose count 6.0/3.0 (3.0)\n",
      "Epoch 011/020 | Loss 0.0041 | Win/lose count 5.5/4.0 (1.5)\n",
      "Epoch 012/020 | Loss 0.0030 | Win/lose count 4.5/4.0 (0.5)\n",
      "Epoch 013/020 | Loss 0.0032 | Win/lose count 8.0/3.0 (5.0)\n",
      "Epoch 014/020 | Loss 0.0042 | Win/lose count 4.5/0 (4.5)\n",
      "Epoch 015/020 | Loss 0.0038 | Win/lose count 7.5/2.0 (5.5)\n",
      "Epoch 016/020 | Loss 0.0044 | Win/lose count 4.0/4.0 (0.0)\n",
      "Epoch 017/020 | Loss 0.0591 | Win/lose count 8.0/3.0 (5.0)\n",
      "Epoch 018/020 | Loss 0.0119 | Win/lose count 3.0/4.0 (-1.0)\n",
      "Epoch 019/020 | Loss 0.0083 | Win/lose count 6.0/3.0 (3.0)\n"
     ]
    },
    {
     "data": {
      "text/html": [
       "<video alt=\"test\" controls>\n",
       "                <source src=\"data:video/mp4;base64,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\" type=\"video/mp4\" />\n",
       "             </video>"
      ],
      "text/plain": [
       "<IPython.core.display.HTML object>"
      ]
     },
     "execution_count": 16,
     "metadata": {},
     "output_type": "execute_result"
    }
   ],
   "source": [
    "env = Environment(grid_size=size, max_time=T, temperature=0.3)\n",
    "agent = DQN_CNN(size, lr=.1, epsilon = 0.1, memory_size=2000, batch_size = 32)\n",
    "train(agent,env,epochs_train,prefix='cnn_train')\n",
    "HTML(display_videos('cnn_train10.mp4'))"
   ]
  },
  {
   "cell_type": "markdown",
   "metadata": {},
   "source": [
    "***\n",
    "***\n",
    "__Question 9__ Test both algorithms and compare their performances. Which issue(s) do you observe? Observe also different behaviors by changing the temperature."
   ]
  },
  {
   "cell_type": "code",
   "execution_count": 17,
   "metadata": {},
   "outputs": [
    {
     "name": "stdout",
     "output_type": "stream",
     "text": [
      "Test of the CNN\n",
      "Win/lose count 2.5/-1.0. Average score (3.5)\n",
      "Win/lose count 1.5/0. Average score (2.5)\n",
      "Win/lose count 2.5/0. Average score (2.5)\n",
      "Win/lose count 2.0/0. Average score (2.375)\n",
      "Win/lose count 2.0/0. Average score (2.3)\n",
      "Win/lose count 6.5/-1.0. Average score (3.1666666666666665)\n",
      "Win/lose count 5.5/0. Average score (3.5)\n",
      "Win/lose count 0.5/0. Average score (3.125)\n",
      "Win/lose count 2.0/0. Average score (3.0)\n",
      "Win/lose count 5.5/0. Average score (3.25)\n",
      "Win/lose count 3.0/0. Average score (3.227272727272727)\n",
      "Win/lose count 1.0/0. Average score (3.0416666666666665)\n",
      "Win/lose count 3.0/0. Average score (3.0384615384615383)\n",
      "Win/lose count 7.0/0. Average score (3.3214285714285716)\n",
      "Win/lose count 0/-1.0. Average score (3.1666666666666665)\n",
      "Win/lose count 1.0/0. Average score (3.03125)\n",
      "Win/lose count 5.0/-1.0. Average score (3.2058823529411766)\n",
      "Win/lose count 9.5/-1.0. Average score (3.611111111111111)\n",
      "Win/lose count 5.0/0. Average score (3.6842105263157894)\n",
      "Win/lose count 2.0/0. Average score (3.6)\n",
      "Final score: 3.6\n",
      "Test of the FC\n",
      "Win/lose count 0.5/0. Average score (0.5)\n",
      "Win/lose count 0/0. Average score (0.25)\n",
      "Win/lose count 1.0/0. Average score (0.5)\n",
      "Win/lose count 0/-1.0. Average score (0.625)\n",
      "Win/lose count 0.5/-1.0. Average score (0.8)\n",
      "Win/lose count 1.0/-2.0. Average score (1.1666666666666667)\n",
      "Win/lose count 1.0/-2.0. Average score (1.4285714285714286)\n",
      "Win/lose count 0/-2.0. Average score (1.5)\n",
      "Win/lose count 0.5/-1.0. Average score (1.5)\n",
      "Win/lose count 0/0. Average score (1.35)\n",
      "Win/lose count 0/-2.0. Average score (1.4090909090909092)\n",
      "Win/lose count 0.5/-1.0. Average score (1.4166666666666667)\n",
      "Win/lose count 0.5/-1.0. Average score (1.4230769230769231)\n",
      "Win/lose count 0/0. Average score (1.3214285714285714)\n",
      "Win/lose count 0.5/-2.0. Average score (1.4)\n",
      "Win/lose count 1.0/-1.0. Average score (1.4375)\n",
      "Win/lose count 0/-2.0. Average score (1.4705882352941178)\n",
      "Win/lose count 0.5/-2.0. Average score (1.5277777777777777)\n",
      "Win/lose count 0/-1.0. Average score (1.5)\n",
      "Win/lose count 1.5/-4.0. Average score (1.7)\n",
      "Final score: 1.7\n"
     ]
    }
   ],
   "source": [
    "env = Environment(grid_size=size, max_time=T,temperature=0.3)\n",
    "agent_cnn = DQN_CNN(size, lr=.1, epsilon = 0.1, memory_size=2000, batch_size = 32)\n",
    "agent_cnn.load(name_weights='cnn_trainmodel.h5',name_model='cnn_trainmodel.json')\n",
    "\n",
    "agent_fc = DQN_FC(size, lr=.1, epsilon = 0.1, memory_size=2000, batch_size = 32)\n",
    "agent_cnn.load(name_weights='fc_trainmodel.h5',name_model='fc_trainmodel.json')\n",
    "print('Test of the CNN')\n",
    "test(agent_cnn,env,epochs_test,prefix='cnn_test')\n",
    "print('Test of the FC')\n",
    "test(agent_fc,env,epochs_test,prefix='fc_test')"
   ]
  },
  {
   "cell_type": "code",
   "execution_count": 18,
   "metadata": {},
   "outputs": [
    {
     "data": {
      "text/html": [
       "<video alt=\"test\" controls>\n",
       "                <source src=\"data:video/mp4;base64,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\" type=\"video/mp4\" />\n",
       "             </video>"
      ],
      "text/plain": [
       "<IPython.core.display.HTML object>"
      ]
     },
     "execution_count": 18,
     "metadata": {},
     "output_type": "execute_result"
    }
   ],
   "source": [
    "HTML(display_videos('cnn_test10.mp4'))"
   ]
  },
  {
   "cell_type": "code",
   "execution_count": 19,
   "metadata": {},
   "outputs": [
    {
     "data": {
      "text/html": [
       "<video alt=\"test\" controls>\n",
       "                <source src=\"data:video/mp4;base64,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\" type=\"video/mp4\" />\n",
       "             </video>"
      ],
      "text/plain": [
       "<IPython.core.display.HTML object>"
      ]
     },
     "execution_count": 19,
     "metadata": {},
     "output_type": "execute_result"
    }
   ],
   "source": [
    "HTML(display_videos('fc_test10.mp4'))"
   ]
  },
  {
   "cell_type": "markdown",
   "metadata": {},
   "source": [
    "CNN gives a better performance than FC however in both the agent barely discovers new areas which means that we have a low exploration rate.\n",
    "\n",
    "when we changed the tempareture the final score increased mainly due to the fact that we're increasing the number of cheese and reducing that of poisonous cells."
   ]
  },
  {
   "cell_type": "markdown",
   "metadata": {},
   "source": [
    "***\n",
    "\n",
    "The algorithm tends to not explore the map which can be an issue. We propose two ideas in order to encourage exploration:\n",
    "1. Incorporating a decreasing $\\epsilon$-greedy exploration. You can use the method ```set_epsilon```\n",
    "2. Append via the environment a new state that describes if a cell has been visited or not\n",
    "\n",
    "***\n",
    "__Question 10__ Design a new ```train_explore``` function and environment class ```EnvironmentExploring``` to tackle the issue of exploration.\n",
    "\n"
   ]
  },
  {
   "cell_type": "code",
   "execution_count": 20,
   "metadata": {},
   "outputs": [],
   "source": [
    "def train_explore(agent,env,epoch,prefix=''):\n",
    "    # Number of won games\n",
    "    score = 0\n",
    "    loss = 0\n",
    "    \n",
    "    for e in range(epoch):\n",
    "        # At each epoch, we restart to a fresh game and get the initial state\n",
    "        state = env.reset()\n",
    "        # This assumes that the games will terminate\n",
    "        game_over = False\n",
    "\n",
    "        win = 0\n",
    "        lose = 0\n",
    "\n",
    "        while not game_over:\n",
    "            agent.set_epsilon(np.float(agent.get_epsilon())*0.990)\n",
    "          \n",
    "            # The agent performs an action\n",
    "            action = agent.act(state)\n",
    "\n",
    "            # Apply an action to the environment, get the next state, the reward\n",
    "            # and if the games end\n",
    "            prev_state = state\n",
    "            state, reward, game_over = env.act(action)\n",
    "\n",
    "            # Update the counters\n",
    "            if reward > 0:\n",
    "                win = win + reward\n",
    "            if reward < 0:\n",
    "                lose = lose -reward\n",
    "\n",
    "            # Apply the reinforcement strategy\n",
    "            loss = agent.reinforce(prev_state, state,  action, reward, game_over)\n",
    "        \n",
    "        # Save as a mp4\n",
    "        env.draw(prefix+str(e))\n",
    "\n",
    "        # Update stats\n",
    "        score += win-lose\n",
    "\n",
    "        print(\"Epoch {:03d}/{:03d} | Loss {:.4f} | Win/lose count {}/{} ({})\"\n",
    "              .format(e, epoch, loss, win, lose, win-lose))\n",
    "        agent.save(name_weights=prefix+'model.h5',name_model=prefix+'model.json')\n",
    "    \n",
    "    \n",
    "        \n",
    "class EnvironmentExploring(object):\n",
    "    def __init__(self, grid_size=10, max_time=500, temperature=0.1):\n",
    "        grid_size = grid_size+4\n",
    "        self.grid_size = grid_size\n",
    "        self.max_time = max_time\n",
    "        self.temperature = temperature\n",
    "\n",
    "        #board on which one plays\n",
    "        self.board = np.zeros((grid_size,grid_size))\n",
    "        self.position = np.zeros((grid_size,grid_size))\n",
    "        self.malus_position = np.zeros([grid_size,grid_size])\n",
    "        \n",
    "        # coordinate of the cat\n",
    "        self.x = 0\n",
    "        self.y = 1\n",
    "\n",
    "        # self time\n",
    "        self.t = 0\n",
    "\n",
    "        self.scale=16\n",
    "\n",
    "        self.to_draw = np.zeros((max_time+2, grid_size*self.scale, grid_size*self.scale, 3))\n",
    "  \n",
    "    def draw(self,e):\n",
    "        skvideo.io.vwrite(str(e) + '.mp4', self.to_draw)\n",
    "    \n",
    "    def reset(self):\n",
    "        self.x = np.random.randint(3, self.grid_size-3, size=1)[0]\n",
    "        self.y = np.random.randint(3, self.grid_size-3, size=1)[0]\n",
    "\n",
    "\n",
    "        bonus = 0.5*np.random.binomial(1,self.temperature,size=self.grid_size**2)\n",
    "        bonus = bonus.reshape(self.grid_size,self.grid_size)\n",
    "\n",
    "        malus = -1.0*np.random.binomial(1,self.temperature,size=self.grid_size**2)\n",
    "        malus = malus.reshape(self.grid_size, self.grid_size)\n",
    "\n",
    "        self.to_draw = np.zeros((self.max_time+2, self.grid_size*self.scale, self.grid_size*self.scale, 3))\n",
    "\n",
    "\n",
    "        malus[bonus>0]=0\n",
    "\n",
    "        self.board = bonus + malus\n",
    "\n",
    "        self.position = np.zeros((self.grid_size, self.grid_size))\n",
    "        self.position[0:2,:]= -1\n",
    "        self.position[:,0:2] = -1\n",
    "        self.position[-2:, :] = -1\n",
    "        self.position[-2:, :] = -1\n",
    "        self.board[self.x,self.y] = 0\n",
    "        self.t = 0\n",
    "\n",
    "        state = np.concatenate((self.malus_position.reshape(self.grid_size, self.grid_size,1),\n",
    "                                    self.board.reshape(self.grid_size, self.grid_size,1),\n",
    "                                    self.position.reshape(self.grid_size, self.grid_size,1)),axis=2)\n",
    "\n",
    "        state = state[self.x - 2:self.x + 3, self.y - 2:self.y + 3, :]\n",
    "        return state\n",
    "\n",
    "\n",
    "    def act(self, action, train=True):\n",
    "        self.get_frame(int(self.t))\n",
    "\n",
    "        self.position = np.zeros((self.grid_size, self.grid_size))\n",
    "\n",
    "        self.position[0:2,:]= -1\n",
    "        self.position[:,0:2] = -1\n",
    "        self.position[-2:, :] = -1\n",
    "        self.position[-2:, :] = -1\n",
    "\n",
    "        self.position[self.x, self.y] = 1\n",
    "        if action == 0:\n",
    "            if self.x == self.grid_size-3:\n",
    "                self.x = self.x-1\n",
    "            else:\n",
    "                self.x = self.x + 1\n",
    "        elif action == 1:\n",
    "            if self.x == 2:\n",
    "                self.x = self.x+1\n",
    "            else:\n",
    "                self.x = self.x-1\n",
    "        elif action == 2:\n",
    "            if self.y == self.grid_size - 3:\n",
    "                self.y = self.y - 1\n",
    "            else:\n",
    "                self.y = self.y + 1\n",
    "        elif action == 3:\n",
    "            if self.y == 2:\n",
    "                self.y = self.y + 1\n",
    "            else:\n",
    "                self.y = self.y - 1\n",
    "        else:\n",
    "            RuntimeError('Error: action not recognized')\n",
    "\n",
    "        self.t = self.t + 1\n",
    "        ## In Environment exploring:\n",
    "        # You will have to change n_state to 3 because you will use one more layer!\n",
    "        reward = 0\n",
    "        if train:\n",
    "            reward = -self.malus_position[self.x, self.y]\n",
    "        self.malus_position[self.x, self.y] = 0.1\n",
    "\n",
    "        reward = reward + self.board[self.x, self.y]\n",
    "        game_over = self.t > self.max_time\n",
    "\n",
    "        # 3 \"feature\" states instead of 2\n",
    "        state = np.concatenate((self.malus_position.reshape(self.grid_size, self.grid_size,1),\n",
    "                                      self.board.reshape(self.grid_size, self.grid_size,1),\n",
    "                              self.position.reshape(self.grid_size, self.grid_size,1)),axis=2)\n",
    "\n",
    "        state = state[self.x-2:self.x+3,self.y-2:self.y+3,:]\n",
    "\n",
    "        return state, reward, game_over\n",
    "\n",
    "    def get_frame(self,t):\n",
    "        b = np.zeros((self.grid_size,self.grid_size,3))+128\n",
    "        b[self.board>0,0] = 256\n",
    "        b[self.board < 0, 2] = 256\n",
    "        b[self.x,self.y,:]=256\n",
    "        b[-2:,:,:]=0\n",
    "        b[:,-2:,:]=0\n",
    "        b[:2,:,:]=0\n",
    "        b[:,:2,:]=0\n",
    "\n",
    "        b =  cv2.resize(b, None, fx=self.scale, fy=self.scale, interpolation=cv2.INTER_NEAREST)\n",
    "\n",
    "        self.to_draw[t,:,:,:]=b\n",
    "\n",
    "\n",
    "\n",
    "\n",
    "\n"
   ]
  },
  {
   "cell_type": "code",
   "execution_count": 21,
   "metadata": {},
   "outputs": [
    {
     "name": "stdout",
     "output_type": "stream",
     "text": [
      "Epoch 000/020 | Loss 2.4280 | Win/lose count 38.99999999999993/14.399999999999967 (24.599999999999962)\n",
      "Epoch 001/020 | Loss 1.2365 | Win/lose count 36.899999999999935/21.600000000000065 (15.29999999999987)\n",
      "Epoch 002/020 | Loss 7.5631 | Win/lose count 79.60000000000005/0 (79.60000000000005)\n",
      "Epoch 003/020 | Loss nan | Win/lose count 0.9/126.39999999999972 (-125.49999999999972)\n",
      "Epoch 004/020 | Loss nan | Win/lose count 0.5/19.70000000000001 (-19.20000000000001)\n",
      "Epoch 005/020 | Loss nan | Win/lose count 0/19.900000000000013 (-19.900000000000013)\n",
      "Epoch 006/020 | Loss nan | Win/lose count 0/19.900000000000013 (-19.900000000000013)\n",
      "Epoch 007/020 | Loss nan | Win/lose count 0/21.70000000000004 (-21.70000000000004)\n",
      "Epoch 008/020 | Loss nan | Win/lose count 0.8/19.900000000000013 (-19.100000000000012)\n",
      "Epoch 009/020 | Loss nan | Win/lose count 0.5/118.3999999999996 (-117.8999999999996)\n",
      "Epoch 010/020 | Loss nan | Win/lose count 39.99999999999992/11.099999999999977 (28.899999999999945)\n",
      "Epoch 011/020 | Loss nan | Win/lose count 0/119.79999999999959 (-119.79999999999959)\n",
      "Epoch 012/020 | Loss nan | Win/lose count 0.5/19.80000000000001 (-19.30000000000001)\n",
      "Epoch 013/020 | Loss nan | Win/lose count 0/120.59999999999957 (-120.59999999999957)\n",
      "Epoch 014/020 | Loss nan | Win/lose count 40.39999999999992/9.99999999999998 (30.39999999999994)\n",
      "Epoch 015/020 | Loss nan | Win/lose count 0.4/119.89999999999958 (-119.49999999999957)\n",
      "Epoch 016/020 | Loss nan | Win/lose count 39.99999999999992/10.09999999999998 (29.89999999999994)\n",
      "Epoch 017/020 | Loss nan | Win/lose count 39.99999999999992/10.999999999999979 (28.999999999999943)\n",
      "Epoch 018/020 | Loss nan | Win/lose count 2.0/116.29999999999961 (-114.29999999999961)\n",
      "Epoch 019/020 | Loss nan | Win/lose count 78.60000000000005/0.30000000000000004 (78.30000000000005)\n"
     ]
    },
    {
     "data": {
      "text/html": [
       "<video alt=\"test\" controls>\n",
       "                <source src=\"data:video/mp4;base64,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\" type=\"video/mp4\" />\n",
       "             </video>"
      ],
      "text/plain": [
       "<IPython.core.display.HTML object>"
      ]
     },
     "execution_count": 21,
     "metadata": {},
     "output_type": "execute_result"
    }
   ],
   "source": [
    "env = EnvironmentExploring(grid_size=size, max_time=T, temperature=0.3)\n",
    "agent = DQN_CNN(size, lr=.1, epsilon = 0.1, memory_size=2000, batch_size = 32,n_state=3)\n",
    "train_explore(agent, env, epochs_train, prefix='cnn_train_explore')\n",
    "HTML(display_videos('cnn_train_explore10.mp4'))\n"
   ]
  },
  {
   "cell_type": "code",
   "execution_count": 22,
   "metadata": {},
   "outputs": [
    {
     "name": "stdout",
     "output_type": "stream",
     "text": [
      "Win/lose count 0/-219.99999999999926. Average score (219.99999999999926)\n",
      "Win/lose count 1.0/-20.500000000000025. Average score (120.74999999999964)\n",
      "Win/lose count 1.3/-116.4999999999996. Average score (119.76666666666631)\n",
      "Win/lose count 39.99999999999992/-10.09999999999998. Average score (102.34999999999971)\n",
      "Win/lose count 0.5/-21.300000000000033. Average score (86.23999999999977)\n",
      "Win/lose count 39.199999999999925/-108.29999999999983. Average score (96.44999999999976)\n",
      "Win/lose count 0.4/-118.99999999999959. Average score (99.72857142857116)\n",
      "Win/lose count 0/-20.100000000000016. Average score (89.77499999999976)\n",
      "Win/lose count 0.4/-22.000000000000043. Average score (82.28888888888868)\n",
      "Win/lose count 40.39999999999992/-9.99999999999998. Average score (79.0999999999998)\n",
      "Win/lose count 39.59999999999992/-12.199999999999973. Average score (76.61818181818161)\n",
      "Win/lose count 0.4/-120.99999999999956. Average score (80.34999999999978)\n",
      "Win/lose count 39.699999999999925/-107.99999999999983. Average score (85.53076923076901)\n",
      "Win/lose count 40.49999999999992/-10.79999999999998. Average score (83.08571428571408)\n",
      "Win/lose count 1.7000000000000002/-117.4999999999996. Average score (85.49333333333311)\n",
      "Win/lose count 0/-120.09999999999957. Average score (87.65624999999977)\n",
      "Win/lose count 0.4/-21.70000000000004. Average score (83.7999999999998)\n",
      "Win/lose count 40.49999999999992/-9.99999999999998. Average score (81.9499999999998)\n",
      "Win/lose count 79.20000000000005/-0.30000000000000004. Average score (81.82105263157877)\n",
      "Win/lose count 39.59999999999992/-11.099999999999978. Average score (80.26499999999982)\n",
      "Final score: 80.26499999999982\n"
     ]
    },
    {
     "data": {
      "text/html": [
       "<video alt=\"test\" controls>\n",
       "                <source src=\"data:video/mp4;base64,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\" type=\"video/mp4\" />\n",
       "             </video>"
      ],
      "text/plain": [
       "<IPython.core.display.HTML object>"
      ]
     },
     "execution_count": 22,
     "metadata": {},
     "output_type": "execute_result"
    }
   ],
   "source": [
    "# Evaluation\n",
    "test(agent,env,epochs_test,prefix='cnn_test_explore')\n",
    "HTML(display_videos('cnn_test_explore10.mp4'))"
   ]
  },
  {
   "cell_type": "markdown",
   "metadata": {},
   "source": [
    "***\n",
    "***\n",
    "__BONUS question__ Use the expert DQN from the previous question to generate some winning games. Train a model that mimicks its behavior. Compare the performances."
   ]
  },
  {
   "cell_type": "markdown",
   "metadata": {},
   "source": []
  },
  {
   "cell_type": "markdown",
   "metadata": {},
   "source": [
    "***"
   ]
  }
 ],
 "metadata": {
  "kernelspec": {
   "display_name": "Python 3",
   "language": "python",
   "name": "python3"
  },
  "language_info": {
   "codemirror_mode": {
    "name": "ipython",
    "version": 3
   },
   "file_extension": ".py",
   "mimetype": "text/x-python",
   "name": "python",
   "nbconvert_exporter": "python",
   "pygments_lexer": "ipython3",
   "version": "3.6.6"
  }
 },
 "nbformat": 4,
 "nbformat_minor": 2
}
